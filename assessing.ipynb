{
 "cells": [
  {
   "cell_type": "markdown",
   "metadata": {},
   "source": [
    "# Assessing\n",
    "Use the space below to explore `winequality-red.csv` and `winequality-white.csv` to answer the quiz questions below."
   ]
  },
  {
   "cell_type": "code",
   "execution_count": 19,
   "metadata": {},
   "outputs": [
    {
     "data": {
      "text/plain": [
       "fixed_acidity            8.319637\n",
       "volatile_acidity         0.527821\n",
       "citric_acid              0.270976\n",
       "residual_sugar           2.538806\n",
       "chlorides                0.087467\n",
       "free_sulfur_dioxide     15.874922\n",
       "total_sulfur-dioxide    46.467792\n",
       "density                  0.996747\n",
       "pH                       3.311113\n",
       "sulphates                0.658149\n",
       "alcohol                 10.422983\n",
       "quality                  5.636023\n",
       "dtype: float64"
      ]
     },
     "execution_count": 19,
     "metadata": {},
     "output_type": "execute_result"
    }
   ],
   "source": [
    "import pandas as pd\n",
    "dfr = pd.read_csv('winequality-red.csv', sep=';')\n",
    "dfw = pd.read_csv('winequality-white.csv', sep=';')\n",
    "dfr.mean()"
   ]
  }
 ],
 "metadata": {
  "kernelspec": {
   "display_name": "Python 3",
   "language": "python",
   "name": "python3"
  },
  "language_info": {
   "codemirror_mode": {
    "name": "ipython",
    "version": 3
   },
   "file_extension": ".py",
   "mimetype": "text/x-python",
   "name": "python",
   "nbconvert_exporter": "python",
   "pygments_lexer": "ipython3",
   "version": "3.6.3"
  }
 },
 "nbformat": 4,
 "nbformat_minor": 2
}
